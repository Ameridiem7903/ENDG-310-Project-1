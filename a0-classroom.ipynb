{
  "cells": [
    {
      "cell_type": "markdown",
      "metadata": {
        "id": "emsusbjTnNgd"
      },
      "source": [
        "Author: Catherine McLellan"
      ]
    },
    {
      "cell_type": "markdown",
      "metadata": {
        "id": "k2McBORonNge"
      },
      "source": [
        "On your local computer"
      ]
    },
    {
      "cell_type": "code",
      "execution_count": null,
      "metadata": {
        "id": "Q3qLRzXenNge",
        "outputId": "9c1749dc-d6a9-4a8f-b6ee-ae5e965cacc2"
      },
      "outputs": [
        {
          "name": "stdout",
          "output_type": "stream",
          "text": [
            "OS information: Windows-10-10.0.26100-SP0\n",
            "Python version: 3.11.11 | packaged by Anaconda, Inc. | (main, Dec 11 2024, 16:34:19) [MSC v.1929 64 bit (AMD64)]\n",
            "PyTorch version: 2.5.1+cpu\n",
            "Fastai version: 2.7.18\n",
            "Fastbook version: 0.0.29\n",
            "OpenCV version: 4.11.0\n"
          ]
        }
      ],
      "source": [
        "# On local machine with endg411 activated: paste code to display versions here and run cell\n",
        "import platform\n",
        "print(\"OS information:\", platform.platform())\n",
        "\n",
        "import sys\n",
        "print(\"Python version:\", sys.version)\n",
        "\n",
        "import torch\n",
        "print(\"PyTorch version:\", torch.__version__)\n",
        "\n",
        "import fastai\n",
        "print(\"Fastai version:\", fastai.__version__)\n",
        "\n",
        "import fastbook\n",
        "print(\"Fastbook version:\", fastbook.__version__)\n",
        "\n",
        "import cv2\n",
        "print(\"OpenCV version:\", cv2.__version__)"
      ]
    },
    {
      "cell_type": "code",
      "execution_count": null,
      "metadata": {
        "id": "H6Xuq61qnNgg",
        "outputId": "a95c2dc9-5f3b-480a-9dbd-4d264ab8280c"
      },
      "outputs": [
        {
          "name": "stdout",
          "output_type": "stream",
          "text": [
            "Python version: 3.11.11 | packaged by Anaconda, Inc. | (main, Dec 11 2024, 16:34:19) [MSC v.1929 64 bit (AMD64)]\n",
            "pandas version: 2.2.2\n",
            "matplotlib version: 3.10.0\n",
            "NumPy version: 1.26.4\n",
            "Jupyter lab version: 4.3.4\n",
            "scikit-learn version: 1.5.0\n",
            "PyTorch version: 2.3.0+cpu\n",
            "ISLP version: 0.4.0\n"
          ]
        }
      ],
      "source": [
        "# On local machine with islp activated: paste code to display versions here and run cell\n",
        "import sys\n",
        "print(\"Python version:\", sys.version)\n",
        "\n",
        "import pandas as pd\n",
        "print(\"pandas version:\", pd.__version__)\n",
        "\n",
        "import matplotlib\n",
        "print(\"matplotlib version:\", matplotlib.__version__)\n",
        "\n",
        "import numpy as np\n",
        "print(\"NumPy version:\", np.__version__)\n",
        "\n",
        "import jupyterlab\n",
        "print(\"Jupyter lab version:\", jupyterlab.__version__)\n",
        "\n",
        "import sklearn\n",
        "print(\"scikit-learn version:\", sklearn.__version__)\n",
        "\n",
        "import torch\n",
        "print(\"PyTorch version:\", torch.__version__)\n",
        "\n",
        "import ISLP\n",
        "print(\"ISLP version:\", ISLP.__version__)"
      ]
    },
    {
      "cell_type": "markdown",
      "metadata": {
        "id": "8M4lav5MnNgg"
      },
      "source": [
        "On google colab"
      ]
    },
    {
      "cell_type": "code",
      "execution_count": 1,
      "metadata": {
        "id": "sXQj5Q62nNgg",
        "outputId": "183417bb-8a3e-4cac-e125-48d825dcdb1b",
        "colab": {
          "base_uri": "https://localhost:8080/"
        }
      },
      "outputs": [
        {
          "output_type": "stream",
          "name": "stdout",
          "text": [
            "\u001b[?25l   \u001b[90m━━━━━━━━━━━━━━━━━━━━━━━━━━━━━━━━━━━━━━━━\u001b[0m \u001b[32m0.0/719.8 kB\u001b[0m \u001b[31m?\u001b[0m eta \u001b[36m-:--:--\u001b[0m\r\u001b[2K   \u001b[91m━━━━━━━━━━━\u001b[0m\u001b[90m╺\u001b[0m\u001b[90m━━━━━━━━━━━━━━━━━━━━━━━━━━━━\u001b[0m \u001b[32m204.8/719.8 kB\u001b[0m \u001b[31m7.6 MB/s\u001b[0m eta \u001b[36m0:00:01\u001b[0m\r\u001b[2K   \u001b[91m━━━━━━━━━━━━━━━━━━━━━━━━━━━━━━━━━━━━━━━\u001b[0m\u001b[91m╸\u001b[0m \u001b[32m716.8/719.8 kB\u001b[0m \u001b[31m13.7 MB/s\u001b[0m eta \u001b[36m0:00:01\u001b[0m\r\u001b[2K   \u001b[91m━━━━━━━━━━━━━━━━━━━━━━━━━━━━━━━━━━━━━━━\u001b[0m\u001b[91m╸\u001b[0m \u001b[32m716.8/719.8 kB\u001b[0m \u001b[31m13.7 MB/s\u001b[0m eta \u001b[36m0:00:01\u001b[0m\r\u001b[2K   \u001b[90m━━━━━━━━━━━━━━━━━━━━━━━━━━━━━━━━━━━━━━━━\u001b[0m \u001b[32m719.8/719.8 kB\u001b[0m \u001b[31m5.6 MB/s\u001b[0m eta \u001b[36m0:00:00\u001b[0m\n",
            "\u001b[2K   \u001b[90m━━━━━━━━━━━━━━━━━━━━━━━━━━━━━━━━━━━━━━━━\u001b[0m \u001b[32m480.6/480.6 kB\u001b[0m \u001b[31m24.1 MB/s\u001b[0m eta \u001b[36m0:00:00\u001b[0m\n",
            "\u001b[2K   \u001b[90m━━━━━━━━━━━━━━━━━━━━━━━━━━━━━━━━━━━━━━━━\u001b[0m \u001b[32m116.3/116.3 kB\u001b[0m \u001b[31m8.6 MB/s\u001b[0m eta \u001b[36m0:00:00\u001b[0m\n",
            "\u001b[2K   \u001b[90m━━━━━━━━━━━━━━━━━━━━━━━━━━━━━━━━━━━━━━━━\u001b[0m \u001b[32m179.3/179.3 kB\u001b[0m \u001b[31m11.3 MB/s\u001b[0m eta \u001b[36m0:00:00\u001b[0m\n",
            "\u001b[2K   \u001b[90m━━━━━━━━━━━━━━━━━━━━━━━━━━━━━━━━━━━━━━━━\u001b[0m \u001b[32m143.5/143.5 kB\u001b[0m \u001b[31m11.0 MB/s\u001b[0m eta \u001b[36m0:00:00\u001b[0m\n",
            "\u001b[2K   \u001b[90m━━━━━━━━━━━━━━━━━━━━━━━━━━━━━━━━━━━━━━━━\u001b[0m \u001b[32m194.8/194.8 kB\u001b[0m \u001b[31m13.9 MB/s\u001b[0m eta \u001b[36m0:00:00\u001b[0m\n",
            "\u001b[2K   \u001b[90m━━━━━━━━━━━━━━━━━━━━━━━━━━━━━━━━━━━━━━━━\u001b[0m \u001b[32m1.6/1.6 MB\u001b[0m \u001b[31m39.6 MB/s\u001b[0m eta \u001b[36m0:00:00\u001b[0m\n",
            "\u001b[?25h\u001b[31mERROR: pip's dependency resolver does not currently take into account all the packages that are installed. This behaviour is the source of the following dependency conflicts.\n",
            "gcsfs 2024.10.0 requires fsspec==2024.10.0, but you have fsspec 2024.9.0 which is incompatible.\u001b[0m\u001b[31m\n",
            "\u001b[0m"
          ]
        }
      ],
      "source": [
        "# On colab: Install fastbook, fastai, and dependencies\n",
        "!pip install -Uqq fastbook"
      ]
    },
    {
      "cell_type": "code",
      "execution_count": 2,
      "metadata": {
        "id": "bT8v2jERnNgg",
        "outputId": "0639263c-e131-4026-9ed0-22f782d0cfd2",
        "colab": {
          "base_uri": "https://localhost:8080/"
        }
      },
      "outputs": [
        {
          "output_type": "stream",
          "name": "stdout",
          "text": [
            "OS information: Linux-6.1.85+-x86_64-with-glibc2.35\n",
            "Python version: 3.11.11 (main, Dec  4 2024, 08:55:07) [GCC 11.4.0]\n",
            "PyTorch version: 2.5.1+cu121\n",
            "Fastai version: 2.7.18\n",
            "Fastbook version: 0.0.29\n"
          ]
        }
      ],
      "source": [
        "# On colab: paste code to display versions here and run cell\n",
        "import platform\n",
        "print(\"OS information:\", platform.platform())\n",
        "\n",
        "import sys\n",
        "print(\"Python version:\", sys.version)\n",
        "\n",
        "import torch\n",
        "print(\"PyTorch version:\", torch.__version__)\n",
        "\n",
        "import fastai\n",
        "print(\"Fastai version:\", fastai.__version__)\n",
        "\n",
        "import fastbook\n",
        "print(\"Fastbook version:\", fastbook.__version__)"
      ]
    },
    {
      "cell_type": "markdown",
      "metadata": {
        "id": "4OFRdBCInNgg"
      },
      "source": [
        "## Reflection\n",
        "Include:\n",
        "- Something you are excited about learning in this course.\n",
        "- Potential difficulties you anticipate."
      ]
    },
    {
      "cell_type": "markdown",
      "metadata": {
        "id": "EXSwP4VGnNgg"
      },
      "source": [
        "*YOUR ANSWER HERE*"
      ]
    }
  ],
  "metadata": {
    "kernelspec": {
      "display_name": "islp",
      "language": "python",
      "name": "python3"
    },
    "language_info": {
      "codemirror_mode": {
        "name": "ipython",
        "version": 3
      },
      "file_extension": ".py",
      "mimetype": "text/x-python",
      "name": "python",
      "nbconvert_exporter": "python",
      "pygments_lexer": "ipython3",
      "version": "3.11.11"
    },
    "colab": {
      "provenance": []
    }
  },
  "nbformat": 4,
  "nbformat_minor": 0
}